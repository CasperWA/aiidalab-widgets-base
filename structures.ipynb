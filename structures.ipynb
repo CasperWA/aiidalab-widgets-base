{
 "cells": [
  {
   "cell_type": "code",
   "execution_count": 1,
   "metadata": {
    "scrolled": false
   },
   "outputs": [
    {
     "data": {
      "application/vnd.jupyter.widget-view+json": {
       "model_id": "44bc81bdbcbf4229abc7176e4d559ec1",
       "version_major": 2,
       "version_minor": 0
      },
      "text/plain": [
       "StructureUploadWidget(children=(Tab(children=(VBox(children=(FileUploadWidget(label='Upload Structure', _dom_c…"
      ]
     },
     "metadata": {},
     "output_type": "display_data"
    }
   ],
   "source": [
    "from aiidalab_widgets_base import StructureUploadWidget\n",
    "from IPython.display import display\n",
    "\n",
    "widget = StructureUploadWidget(examples=[(\"Silicon oxide\", 'miscellaneous/structures/SiO2.xyz')])\n",
    "# widget = StructureUploadWidget()\n",
    "# Enforce node format to be CifData:\n",
    "# widget = StructureUploadWidget(node_class='CifData')\n",
    "display(widget)"
   ]
  },
  {
   "cell_type": "code",
   "execution_count": null,
   "metadata": {},
   "outputs": [],
   "source": []
  }
 ],
 "metadata": {
  "kernelspec": {
   "display_name": "Python 3",
   "language": "python",
   "name": "python3"
  },
  "language_info": {
   "codemirror_mode": {
    "name": "ipython",
    "version": 3
   },
   "file_extension": ".py",
   "mimetype": "text/x-python",
   "name": "python",
   "nbconvert_exporter": "python",
   "pygments_lexer": "ipython3",
   "version": "3.7.1"
  }
 },
 "nbformat": 4,
 "nbformat_minor": 2
}
